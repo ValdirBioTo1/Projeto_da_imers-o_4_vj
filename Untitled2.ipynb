{
  "nbformat": 4,
  "nbformat_minor": 0,
  "metadata": {
    "colab": {
      "provenance": [],
      "authorship_tag": "ABX9TyOiwsPllYvzhXCGWYZr8uHi",
      "include_colab_link": true
    },
    "kernelspec": {
      "name": "python3",
      "display_name": "Python 3"
    },
    "language_info": {
      "name": "python"
    }
  },
  "cells": [
    {
      "cell_type": "markdown",
      "metadata": {
        "id": "view-in-github",
        "colab_type": "text"
      },
      "source": [
        "<a href=\"https://colab.research.google.com/github/ValdirBioTo1/Projeto_da_imers-o_4_vj/blob/main/Untitled2.ipynb\" target=\"_parent\"><img src=\"https://colab.research.google.com/assets/colab-badge.svg\" alt=\"Open In Colab\"/></a>"
      ]
    },
    {
      "cell_type": "code",
      "source": [
        "pip install -q -U google-generativeai"
      ],
      "metadata": {
        "id": "-nU8aJyYNlCz"
      },
      "execution_count": null,
      "outputs": []
    },
    {
      "cell_type": "code",
      "source": [
        "print ('Hello, world')"
      ],
      "metadata": {
        "colab": {
          "base_uri": "https://localhost:8080/"
        },
        "id": "pL1gKo9dWc-E",
        "outputId": "1a2176d8-7e17-4e06-9068-5f985676063b"
      },
      "execution_count": null,
      "outputs": [
        {
          "output_type": "stream",
          "name": "stdout",
          "text": [
            "Hello, world\n"
          ]
        }
      ]
    },
    {
      "cell_type": "code",
      "source": [
        "Title = 'Ciencias Interativas'"
      ],
      "metadata": {
        "id": "GQJvwBhPPnla"
      },
      "execution_count": null,
      "outputs": []
    },
    {
      "cell_type": "code",
      "source": [
        "print (Title)"
      ],
      "metadata": {
        "colab": {
          "base_uri": "https://localhost:8080/"
        },
        "id": "LD8--vNzP-Cz",
        "outputId": "51fc4cf2-70d6-43ec-9f1a-a430b6b1866d"
      },
      "execution_count": null,
      "outputs": [
        {
          "output_type": "stream",
          "name": "stdout",
          "text": [
            "Ciencias Interativas\n"
          ]
        }
      ]
    },
    {
      "cell_type": "code",
      "source": [
        "Introdução = 'Esta interação é para entender e compreender a importância das ciências relacionadas as ciências da natureza e suas tecnologias, fundamentais para a aprendizagem, pois é necessário conhecer os conceitos e a importância de tais ciências'"
      ],
      "metadata": {
        "id": "O0Ey-ARZQbHC"
      },
      "execution_count": null,
      "outputs": []
    },
    {
      "cell_type": "code",
      "source": [
        "Biologia = 'A biologia é o estudo dos seres vivos e de seus processos vitais, sendo uma ciência ampla que engloba diversos aspectos da vida, como Estrutura dos seres vivos, evolução, desenvolvimento, reprodução, etc'"
      ],
      "metadata": {
        "id": "jQhGzFFTRcJi"
      },
      "execution_count": null,
      "outputs": []
    },
    {
      "cell_type": "code",
      "source": [
        "Física = 'A física é o estudo da matéria e energia e de suas interações. É uma ciência fundamental que busca entender os princípios que governam o universo, desde as partículas subatômicas até as galáxias'"
      ],
      "metadata": {
        "id": "jnsaE9vYR0UR"
      },
      "execution_count": null,
      "outputs": []
    },
    {
      "cell_type": "code",
      "source": [
        "Química = 'A química é o estudo da composição, estrutura, propriedades e mudanças da matéria. É uma ciência central que explora as interações entre átomos e moléculas e como essas interações afetam o comportamento da matéria'"
      ],
      "metadata": {
        "id": "DMpSo1d4SKwK"
      },
      "execution_count": null,
      "outputs": []
    },
    {
      "cell_type": "code",
      "source": [
        "print (Biologia)"
      ],
      "metadata": {
        "colab": {
          "base_uri": "https://localhost:8080/"
        },
        "id": "3iHRDLnOTwly",
        "outputId": "3cdcf91d-8577-4473-f405-3ec744eecc38"
      },
      "execution_count": null,
      "outputs": [
        {
          "output_type": "stream",
          "name": "stdout",
          "text": [
            "A biologia é o estudo dos seres vivos e de seus processos vitais, sendo uma ciência ampla que engloba diversos aspectos da vida, como Estrutura dos seres vivos, evolução, desenvolvimento, reprodução, etc\n"
          ]
        }
      ]
    },
    {
      "cell_type": "code",
      "source": [
        "print (Física)"
      ],
      "metadata": {
        "colab": {
          "base_uri": "https://localhost:8080/"
        },
        "id": "GU5yJWjeT3ga",
        "outputId": "e96a6db5-cd29-4a68-de47-134dda847bca"
      },
      "execution_count": null,
      "outputs": [
        {
          "output_type": "stream",
          "name": "stdout",
          "text": [
            "A física é o estudo da matéria e energia e de suas interações. É uma ciência fundamental que busca entender os princípios que governam o universo, desde as partículas subatômicas até as galáxias\n"
          ]
        }
      ]
    },
    {
      "cell_type": "code",
      "source": [
        "print (Química)"
      ],
      "metadata": {
        "colab": {
          "base_uri": "https://localhost:8080/"
        },
        "id": "VfxQpxJ1T9Sq",
        "outputId": "d4b4ebee-d6a4-4675-cd2e-d96268502933"
      },
      "execution_count": null,
      "outputs": [
        {
          "output_type": "stream",
          "name": "stdout",
          "text": [
            "A química é o estudo da composição, estrutura, propriedades e mudanças da matéria. É uma ciência central que explora as interações entre átomos e moléculas e como essas interações afetam o comportamento da matéria\n"
          ]
        }
      ]
    },
    {
      "cell_type": "code",
      "source": [
        "print ('Ciências Naturais')"
      ],
      "metadata": {
        "colab": {
          "base_uri": "https://localhost:8080/"
        },
        "id": "P8b17tlvUICq",
        "outputId": "e092b9eb-c74e-41fa-c2ab-f4ede5a28c59"
      },
      "execution_count": null,
      "outputs": [
        {
          "output_type": "stream",
          "name": "stdout",
          "text": [
            "Ciências Naturais\n"
          ]
        }
      ]
    },
    {
      "cell_type": "code",
      "source": [
        "ciencias_naturais = 'Biologia, Física, Química'"
      ],
      "metadata": {
        "id": "Ah8xQxxxWy06"
      },
      "execution_count": null,
      "outputs": []
    },
    {
      "cell_type": "code",
      "source": [
        "print (ciencias_naturais)"
      ],
      "metadata": {
        "colab": {
          "base_uri": "https://localhost:8080/"
        },
        "id": "O6-x2iJWXALq",
        "outputId": "0743d73e-4d37-4429-e689-e991819b8f1c"
      },
      "execution_count": null,
      "outputs": [
        {
          "output_type": "stream",
          "name": "stdout",
          "text": [
            "Biologia, Física, Química\n"
          ]
        }
      ]
    },
    {
      "cell_type": "code",
      "source": [
        "Areas_de_estudo_da_Biologia = 'Citologia, histologia, fisiologia, evolução, zoologia, ecologia, genética'"
      ],
      "metadata": {
        "id": "_v8Wg-g7Xg4E"
      },
      "execution_count": null,
      "outputs": []
    },
    {
      "cell_type": "code",
      "source": [
        "print (Areas_de_estudo_da_Biologia)"
      ],
      "metadata": {
        "colab": {
          "base_uri": "https://localhost:8080/"
        },
        "id": "Pjf06iq5X-Fa",
        "outputId": "82a4e539-bf32-4342-e320-502da6101b6d"
      },
      "execution_count": null,
      "outputs": [
        {
          "output_type": "stream",
          "name": "stdout",
          "text": [
            "Citologia, histologia, fisiologia, evolução, zoologia, ecologia, genética\n"
          ]
        }
      ]
    },
    {
      "cell_type": "code",
      "source": [
        "Areas_de_estudo_da_Física = ('Mecânica, Termologia, Mecânica Quântica, Ótica, Física Moderna')"
      ],
      "metadata": {
        "id": "6JDwLj4DYKC4"
      },
      "execution_count": null,
      "outputs": []
    },
    {
      "cell_type": "code",
      "source": [
        "print (Areas_de_estudo_da_Física)"
      ],
      "metadata": {
        "colab": {
          "base_uri": "https://localhost:8080/"
        },
        "id": "gEHZxVbMYgfa",
        "outputId": "70bb3305-54e7-4fee-8303-eeb991f57f9b"
      },
      "execution_count": null,
      "outputs": [
        {
          "output_type": "stream",
          "name": "stdout",
          "text": [
            "Mecânica, Termologia, Mecânica Quântica, Ótica, Física Moderna\n"
          ]
        }
      ]
    },
    {
      "cell_type": "code",
      "source": [
        "Areas_de_estudo_da_Química = 'Química_Geral, Físico_Química, Química_Orgânica'"
      ],
      "metadata": {
        "id": "7QHLiyRbY2Zy"
      },
      "execution_count": null,
      "outputs": []
    },
    {
      "cell_type": "code",
      "source": [
        "print (Areas_de_estudo_da_Química)"
      ],
      "metadata": {
        "colab": {
          "base_uri": "https://localhost:8080/"
        },
        "id": "mggfqNZxZL_I",
        "outputId": "c33bbc4e-1d55-4c8e-861c-b8eb6eac4a91"
      },
      "execution_count": null,
      "outputs": [
        {
          "output_type": "stream",
          "name": "stdout",
          "text": [
            "Química_Geral, Físico_Química, Química_Orgânica\n"
          ]
        }
      ]
    },
    {
      "cell_type": "code",
      "source": [
        "Importância_das_Ciências_da_Natureza = 'estudar os fenômenos da natureza, no que diz respeito a matéria e energia, além de suas interações, incluindo os organismos vivos e o ambienteou simplesmente outros elementos relacionados'"
      ],
      "metadata": {
        "id": "c9gn2qsMZzUZ"
      },
      "execution_count": null,
      "outputs": []
    },
    {
      "cell_type": "code",
      "source": [
        "print (Importância_das_Ciências_da_Natureza)"
      ],
      "metadata": {
        "colab": {
          "base_uri": "https://localhost:8080/"
        },
        "id": "TyO8GvTfapK9",
        "outputId": "35ac6e41-800b-439d-e35c-6adb82a359e6"
      },
      "execution_count": null,
      "outputs": [
        {
          "output_type": "stream",
          "name": "stdout",
          "text": [
            "estudar os fenômenos da natureza, no que diz respeito a matéria e energia, além de suas interações, incluindo os organismos vivos e o ambienteou simplesmente outros elementos relacionados\n"
          ]
        }
      ]
    },
    {
      "cell_type": "code",
      "source": [
        "print (Física)"
      ],
      "metadata": {
        "id": "geXKXVuRa0hS",
        "outputId": "6f0c4cec-7473-4a59-b177-62d2cab61686",
        "colab": {
          "base_uri": "https://localhost:8080/"
        }
      },
      "execution_count": null,
      "outputs": [
        {
          "output_type": "stream",
          "name": "stdout",
          "text": [
            "A física é o estudo da matéria e energia e de suas interações. É uma ciência fundamental que busca entender os princípios que governam o universo, desde as partículas subatômicas até as galáxias\n"
          ]
        }
      ]
    },
    {
      "cell_type": "code",
      "source": [
        "print (Introdução)"
      ],
      "metadata": {
        "id": "FBwaHz4vdGeK",
        "outputId": "9a4e1593-e61b-47ac-c92c-a3a5a280aa1e",
        "colab": {
          "base_uri": "https://localhost:8080/"
        }
      },
      "execution_count": null,
      "outputs": [
        {
          "output_type": "stream",
          "name": "stdout",
          "text": [
            "Esta interação é para entender e compreender a importância das ciências relacionadas as ciências da natureza e suas tecnologias, fundamentais para a aprendizagem, pois é necessário conhecer os conceitos e a importância de tais ciências\n"
          ]
        }
      ]
    }
  ]
}